{
 "cells": [
  {
   "cell_type": "code",
   "execution_count": 2,
   "metadata": {},
   "outputs": [],
   "source": [
    "import tensorflow as tf\n",
    "from tensorflow  import keras\n",
    "import numpy as np\n",
    "import matplotlib.pyplot as plt\n",
    "import cv2\n",
    "from random import *\n",
    "from sklearn.preprocessing import OneHotEncoder\n",
    "from sklearn.metrics import accuracy_score\n",
    "\n",
    "from sklearn.metrics import classification_report, confusion_matrix"
   ]
  },
  {
   "cell_type": "code",
   "execution_count": 3,
   "metadata": {},
   "outputs": [],
   "source": [
    "(x_train, y_train), (x_test, y_test) = tf.keras.datasets.cifar10.load_data()"
   ]
  },
  {
   "cell_type": "code",
   "execution_count": 4,
   "metadata": {},
   "outputs": [],
   "source": [
    "object = {\n",
    "  0: \"airplane\",\n",
    "  1: \"automobile\",\n",
    "  2: \"bird\",\n",
    "  3: \"cat\",\n",
    "  4: \"deer\",\n",
    "  5: \"dog\",\n",
    "  6: \"frog\",\n",
    "  7: \"horse\",\n",
    "  8: \"ship\",\n",
    "  9: \"truck\"\n",
    "}"
   ]
  },
  {
   "cell_type": "code",
   "execution_count": 5,
   "metadata": {},
   "outputs": [
    {
     "name": "stdout",
     "output_type": "stream",
     "text": [
      "x_train (50000, 32, 32, 3)\n",
      "y_train (50000, 1)\n",
      "x_test (10000, 32, 32, 3)\n",
      "y_test (10000, 1)\n"
     ]
    }
   ],
   "source": [
    "print(\"x_train\",x_train.shape)\n",
    "print(\"y_train\",y_train.shape)\n",
    "print(\"x_test\",x_test.shape)\n",
    "print(\"y_test\",y_test.shape)"
   ]
  },
  {
   "cell_type": "code",
   "execution_count": 6,
   "metadata": {},
   "outputs": [
    {
     "data": {
      "text/plain": [
       "<matplotlib.image.AxesImage at 0x22443b7c240>"
      ]
     },
     "execution_count": 6,
     "metadata": {},
     "output_type": "execute_result"
    },
    {
     "data": {
      "image/png": "[encoded data removed]",
      "text/plain": [
       "<Figure size 432x288 with 1 Axes>"
      ]
     },
     "metadata": {
      "needs_background": "light"
     },
     "output_type": "display_data"
    }
   ],
   "source": [
    "plt.imshow(x_train[0])"
   ]
  },
  {
   "cell_type": "code",
   "execution_count": 7,
   "metadata": {},
   "outputs": [
    {
     "name": "stdout",
     "output_type": "stream",
     "text": [
      "x_train shape: (50000, 32, 32, 3)\n",
      "50000 train samples\n",
      "10000 test samples\n"
     ]
    }
   ],
   "source": [
    "# Lets store the number of rows and columns\n",
    "img_rows = x_train[0].shape[0]\n",
    "img_cols = x_train[0].shape[1]\n",
    "\n",
    "# Getting our data in the right 'shape' needed for Keras\n",
    "# We need to add a 4th dimenion to our data thereby changing our\n",
    "# Our original image shape of (50000,28,28) to (50000,28,28,3)\n",
    "x_train = x_train.reshape(x_train.shape[0], img_rows, img_cols, 3)\n",
    "x_test = x_test.reshape(x_test.shape[0], img_rows, img_cols, 3)\n",
    "\n",
    "# store the shape of a single image \n",
    "input_shape = (img_rows, img_cols, 3)\n",
    "\n",
    "# change our image type to float32 data type\n",
    "x_train = x_train.astype('float32') #uint8 originally\n",
    "x_test = x_test.astype('float32')\n",
    "\n",
    "# Normalize our data by changing the range from (0 to 255) to (0 to 1)\n",
    "x_train /= 255.0\n",
    "x_test /= 255.0\n",
    "\n",
    "print('x_train shape:', x_train.shape)\n",
    "print(x_train.shape[0], 'train samples')\n",
    "print(x_test.shape[0], 'test samples')"
   ]
  },
  {
   "cell_type": "code",
   "execution_count": 8,
   "metadata": {},
   "outputs": [
    {
     "name": "stdout",
     "output_type": "stream",
     "text": [
      "Number of Classes: 10\n"
     ]
    }
   ],
   "source": [
    "from tensorflow.keras.utils import to_categorical\n",
    "\n",
    "# Now we one hot encode outputs\n",
    "y_train = to_categorical(y_train)\n",
    "y_test = to_categorical(y_test)\n",
    "\n",
    "# Let's count the number columns in our hot encoded matrix \n",
    "print (\"Number of Classes: \" + str(y_test.shape[1]))\n",
    "\n",
    "num_classes = y_test.shape[1]"
   ]
  },
  {
   "cell_type": "code",
   "execution_count": 9,
   "metadata": {},
   "outputs": [
    {
     "name": "stdout",
     "output_type": "stream",
     "text": [
      "Model: \"sequential\"\n",
      "_________________________________________________________________\n",
      "Layer (type)                 Output Shape              Param #   \n",
      "=================================================================\n",
      "conv2d (Conv2D)              (None, 32, 32, 32)        896       \n",
      "_________________________________________________________________\n",
      "conv2d_1 (Conv2D)            (None, 30, 30, 32)        9248      \n",
      "_________________________________________________________________\n",
      "max_pooling2d (MaxPooling2D) (None, 15, 15, 32)        0         \n",
      "_________________________________________________________________\n",
      "dropout (Dropout)            (None, 15, 15, 32)        0         \n",
      "_________________________________________________________________\n",
      "conv2d_2 (Conv2D)            (None, 15, 15, 64)        18496     \n",
      "_________________________________________________________________\n",
      "conv2d_3 (Conv2D)            (None, 13, 13, 64)        36928     \n",
      "_________________________________________________________________\n",
      "max_pooling2d_1 (MaxPooling2 (None, 6, 6, 64)          0         \n",
      "_________________________________________________________________\n",
      "dropout_1 (Dropout)          (None, 6, 6, 64)          0         \n",
      "_________________________________________________________________\n",
      "flatten (Flatten)            (None, 2304)              0         \n",
      "_________________________________________________________________\n",
      "dense (Dense)                (None, 512)               1180160   \n",
      "_________________________________________________________________\n",
      "dropout_2 (Dropout)          (None, 512)               0         \n",
      "_________________________________________________________________\n",
      "dense_1 (Dense)              (None, 10)                5130      \n",
      "=================================================================\n",
      "Total params: 1,250,858\n",
      "Trainable params: 1,250,858\n",
      "Non-trainable params: 0\n",
      "_________________________________________________________________\n",
      "None\n"
     ]
    }
   ],
   "source": [
    "from tensorflow.keras.models import Sequential\n",
    "from tensorflow.keras.layers import Dense, Dropout, Flatten, BatchNormalization\n",
    "from tensorflow.keras.layers import Conv2D, MaxPooling2D, GlobalAveragePooling2D\n",
    "from tensorflow.keras import backend as K\n",
    "from tensorflow.keras.optimizers import SGD \n",
    "\n",
    "# create model\n",
    "model = Sequential()\n",
    "\n",
    "# Our First Convolution Layer, Filter size 32 which reduces our layer size to 32 x 32 x 32\n",
    "# We use ReLU activation and specify our input_shape which is 32 x 32 x 3\n",
    "model.add(Conv2D(32, kernel_size=(3, 3), activation='relu', padding=\"same\", input_shape=input_shape))\n",
    "\n",
    "# Our Second Convolution Layer, Filter size 64 which reduces our layer size to 30 x 30 x 32\n",
    "model.add(Conv2D(32, (3, 3), activation='relu'))\n",
    "\n",
    "# We use MaxPooling with a kernel size of 2 x 2, this reduces our size to 15 x 15 x 32\n",
    "model.add(MaxPooling2D(pool_size=(2, 2)))\n",
    "\n",
    "# We use a dropout P setting of 0.25 to reduce overfitting\n",
    "model.add(Dropout(0.25))\n",
    "\n",
    "# Our Tird Convolution Layer, Filter size 64 which reduces our layer size to 15 x 15 x 64\n",
    "model.add(Conv2D(64, kernel_size=(3, 3), activation='relu', padding=\"same\"))\n",
    "\n",
    "# Our Second Convolution Layer, Filter size 64 which reduces our layer size to 13 x 13 x 64\n",
    "model.add(Conv2D(64, (3, 3), activation='relu'))\n",
    "\n",
    "# We use MaxPooling with a kernel size of 2 x 2, this reduces our size to 6 x 6 x 64\n",
    "model.add(MaxPooling2D(pool_size=(2, 2)))\n",
    "\n",
    "# We use a dropout P setting of 0.25 to reduce overfitting\n",
    "model.add(Dropout(0.25))\n",
    "\n",
    "# We then Flatten our tensor object before input into our Dense Layer\n",
    "# A flatten operation on a tensor reshapes the tensor to have the shape that is \n",
    "# equal to the number of elements contained in tensor\n",
    "# In our CNN it goes from 6 * 6 * 64 to 2304 * 1\n",
    "model.add(Flatten())\n",
    "\n",
    "# We connect this layer to a Fully Connected/Dense layer of size 1 * 512\n",
    "model.add(Dense(512, activation='relu'))\n",
    "\n",
    "# We use another Dropout layer\n",
    "model.add(Dropout(0.5))\n",
    "\n",
    "# We create our final Fully Connected/Dense layer with an output for each class (10)\n",
    "model.add(Dense(num_classes, activation='softmax'))\n",
    "\n",
    "# We compile our model, this creates an object that stores the model we just created\n",
    "# We set our Optimizer to use Stochastic Gradient Descent (learning rate of 0.01)\n",
    "# We set our loss function to be categorical_crossentropy as it's suitable for multiclass problems\n",
    "# Finally, the metrics (What we judge our performance on) to be accuracy\n",
    "model.compile(loss = 'categorical_crossentropy',\n",
    "              optimizer = SGD(0.01),\n",
    "              metrics = ['accuracy'])\n",
    "\n",
    "# We can use the summary function to display our model layers and parameters\n",
    "print(model.summary())"
   ]
  },
  {
   "cell_type": "code",
   "execution_count": 12,
   "metadata": {},
   "outputs": [
    {
     "name": "stdout",
     "output_type": "stream",
     "text": [
      "Epoch 1/10\n",
      "1563/1563 [==============================] - 157s 100ms/step - loss: 2.0812 - accuracy: 0.2271 - val_loss: 1.7964 - val_accuracy: 0.3664\n",
      "Epoch 2/10\n",
      "1563/1563 [==============================] - 155s 99ms/step - loss: 1.7624 - accuracy: 0.3592 - val_loss: 1.6151 - val_accuracy: 0.4258\n",
      "Epoch 3/10\n",
      "1563/1563 [==============================] - 158s 101ms/step - loss: 1.6050 - accuracy: 0.4144 - val_loss: 1.4553 - val_accuracy: 0.4679\n",
      "Epoch 4/10\n",
      "1563/1563 [==============================] - 152s 97ms/step - loss: 1.4769 - accuracy: 0.4601 - val_loss: 1.4016 - val_accuracy: 0.4860\n",
      "Epoch 5/10\n",
      "1563/1563 [==============================] - 148s 94ms/step - loss: 1.3936 - accuracy: 0.4967 - val_loss: 1.2803 - val_accuracy: 0.5436\n",
      "Epoch 6/10\n",
      "1563/1563 [==============================] - 154s 98ms/step - loss: 1.3255 - accuracy: 0.5230 - val_loss: 1.2214 - val_accuracy: 0.5690\n",
      "Epoch 7/10\n",
      "1563/1563 [==============================] - 178s 114ms/step - loss: 1.2667 - accuracy: 0.5470 - val_loss: 1.1658 - val_accuracy: 0.5943\n",
      "Epoch 8/10\n",
      "1563/1563 [==============================] - 170s 109ms/step - loss: 1.2119 - accuracy: 0.5676 - val_loss: 1.1157 - val_accuracy: 0.6044\n",
      "Epoch 9/10\n",
      "1563/1563 [==============================] - 150s 96ms/step - loss: 1.1617 - accuracy: 0.5866 - val_loss: 1.0960 - val_accuracy: 0.6171\n",
      "Epoch 10/10\n",
      "1563/1563 [==============================] - 150s 96ms/step - loss: 1.1083 - accuracy: 0.6074 - val_loss: 0.9959 - val_accuracy: 0.6541\n",
      "Test loss: 0.9959248900413513\n",
      "Test accuracy: 0.6541000008583069\n"
     ]
    }
   ],
   "source": [
    "batch_size = 32\n",
    "epochs = 10\n",
    "\n",
    "# Store our results here so we can plot later\n",
    "# In our fit function we specify our datsets (x_train & y_train), \n",
    "# the batch size (typically 16 to 128 depending on your RAM), the number of \n",
    "# epochs (usually 10 to 100) and our validation datasets (x_test & y_test)\n",
    "# verbose = 1, sets our training to output performance metrics every epoch\n",
    "history = model.fit(x_train,\n",
    "                    y_train,\n",
    "                    batch_size = batch_size,\n",
    "                    epochs = epochs,\n",
    "                    verbose = 1,\n",
    "                    validation_data = (x_test, y_test))\n",
    "\n",
    "# We obtain our accuracy score using the evalute function\n",
    "score = model.evaluate(x_test, y_test, verbose=0)\n",
    "print('Test loss:', score[0])\n",
    "print('Test accuracy:', score[1])"
   ]
  },
  {
   "cell_type": "code",
   "execution_count": 22,
   "metadata": {},
   "outputs": [
    {
     "name": "stdout",
     "output_type": "stream",
     "text": [
      "[3 8 8 ... 5 1 7]\n"
     ]
    }
   ],
   "source": [
    "prediction = model.predict(x_test)\n",
    "\n",
    "pred = np.argmax(prediction, axis=1)\n",
    "\n",
    "print(pred)"
   ]
  },
  {
   "cell_type": "code",
   "execution_count": 27,
   "metadata": {},
   "outputs": [
    {
     "name": "stdout",
     "output_type": "stream",
     "text": [
      "Prediction is:  cat\n",
      "True object is:  cat\n"
     ]
    },
    {
     "data": {
      "image/png": "[encoded data removed]",
      "text/plain": [
       "<Figure size 432x288 with 1 Axes>"
      ]
     },
     "metadata": {
      "needs_background": "light"
     },
     "output_type": "display_data"
    },
    {
     "name": "stdout",
     "output_type": "stream",
     "text": [
      "Prediction is:  ship\n",
      "True object is:  ship\n"
     ]
    },
    {
     "data": {
      "image/png": "[encoded data removed]",
      "text/plain": [
       "<Figure size 432x288 with 1 Axes>"
      ]
     },
     "metadata": {
      "needs_background": "light"
     },
     "output_type": "display_data"
    },
    {
     "name": "stdout",
     "output_type": "stream",
     "text": [
      "Prediction is:  ship\n",
      "True object is:  ship\n"
     ]
    },
    {
     "data": {
      "image/png": "[encoded data removed]",
      "text/plain": [
       "<Figure size 432x288 with 1 Axes>"
      ]
     },
     "metadata": {
      "needs_background": "light"
     },
     "output_type": "display_data"
    },
    {
     "name": "stdout",
     "output_type": "stream",
     "text": [
      "Prediction is:  ship\n",
      "True object is:  airplane\n"
     ]
    },
    {
     "data": {
      "image/png": "[encoded data removed]",
      "text/plain": [
       "<Figure size 432x288 with 1 Axes>"
      ]
     },
     "metadata": {
      "needs_background": "light"
     },
     "output_type": "display_data"
    },
    {
     "name": "stdout",
     "output_type": "stream",
     "text": [
      "Prediction is:  deer\n",
      "True object is:  frog\n"
     ]
    },
    {
     "data": {
      "image/png": "[encoded data removed]",
      "text/plain": [
       "<Figure size 432x288 with 1 Axes>"
      ]
     },
     "metadata": {
      "needs_background": "light"
     },
     "output_type": "display_data"
    },
    {
     "name": "stdout",
     "output_type": "stream",
     "text": [
      "Prediction is:  frog\n",
      "True object is:  frog\n"
     ]
    },
    {
     "data": {
      "image/png": "[encoded data removed]",
      "text/plain": [
       "<Figure size 432x288 with 1 Axes>"
      ]
     },
     "metadata": {
      "needs_background": "light"
     },
     "output_type": "display_data"
    },
    {
     "name": "stdout",
     "output_type": "stream",
     "text": [
      "Prediction is:  automobile\n",
      "True object is:  automobile\n"
     ]
    },
    {
     "data": {
      "image/png": "[encoded data removed]",
      "text/plain": [
       "<Figure size 432x288 with 1 Axes>"
      ]
     },
     "metadata": {
      "needs_background": "light"
     },
     "output_type": "display_data"
    },
    {
     "name": "stdout",
     "output_type": "stream",
     "text": [
      "Prediction is:  frog\n",
      "True object is:  frog\n"
     ]
    },
    {
     "data": {
      "image/png": "[encoded data removed]",
      "text/plain": [
       "<Figure size 432x288 with 1 Axes>"
      ]
     },
     "metadata": {
      "needs_background": "light"
     },
     "output_type": "display_data"
    },
    {
     "name": "stdout",
     "output_type": "stream",
     "text": [
      "Prediction is:  cat\n",
      "True object is:  cat\n"
     ]
    },
    {
     "data": {
      "image/png": "[encoded data removed]",
      "text/plain": [
       "<Figure size 432x288 with 1 Axes>"
      ]
     },
     "metadata": {
      "needs_background": "light"
     },
     "output_type": "display_data"
    },
    {
     "name": "stdout",
     "output_type": "stream",
     "text": [
      "Prediction is:  automobile\n",
      "True object is:  automobile\n"
     ]
    },
    {
     "data": {
      "image/png": "[encoded data removed]",
      "text/plain": [
       "<Figure size 432x288 with 1 Axes>"
      ]
     },
     "metadata": {
      "needs_background": "light"
     },
     "output_type": "display_data"
    }
   ],
   "source": [
    "for i in range(10):\n",
    "    print(\"Prediction is: \", object[pred[i]])\n",
    "    print(\"True object is: \", object[np.argmax(y_test[i])])\n",
    "    plt.imshow(x_test[i])\n",
    "    plt.show()"
   ]
  },
  {
   "cell_type": "markdown",
   "metadata": {},
   "source": [
    "Our model is just a little worse than us (humans)."
   ]
  },
  {
   "cell_type": "code",
   "execution_count": 23,
   "metadata": {},
   "outputs": [],
   "source": [
    "from tensorflow.keras.applications import vgg16 as vgg\n",
    "from keras.models import Model\n",
    "from keras.preprocessing.image import ImageDataGenerator\n",
    "from keras import optimizers\n",
    "\n",
    "base_model = tf.keras.applications.VGG16(input_shape=(32, 32, 3), include_top=False, weights='imagenet')\n",
    "\n",
    "# Creating dictionary that maps layer names to the layers\n",
    "layer_dict = dict([(layer.name, layer) for layer in base_model.layers])\n",
    "\n",
    "# use “get_layer” method to save the last layer of the network\n",
    "last_layer = base_model.get_layer('block3_pool')\n",
    "# save the output of the last layer to be the input of the next layer\n",
    "last_output = last_layer.output\n",
    "\n",
    "# Stacking a new simple convolutional network on top of it  \n",
    "x = GlobalAveragePooling2D()(last_output)\n",
    "x = BatchNormalization()(x)\n",
    "x = Dense(256, activation='relu')(x)\n",
    "x = Dense(256, activation='relu')(x)\n",
    "x = Dropout(0.5)(x)\n",
    "x = Dense(10, activation='softmax')(x)\n",
    "\n",
    "# Creating new model. Please note that this is NOT a Sequential() model.\n",
    "custom_model = Model(inputs=base_model.input, outputs=x)\n",
    "\n",
    "# Make sure that the pre-trained bottom layers are not trainable\n",
    "for layer in custom_model.layers[:11]:\n",
    "    layer.trainable = False\n",
    "\n",
    "# Do not forget to compile it\n",
    "custom_model.compile(loss='categorical_crossentropy',\n",
    "                     optimizer=optimizers.RMSprop(lr=1e-5),\n",
    "                     metrics=['accuracy'])\n"
   ]
  },
  {
   "cell_type": "code",
   "execution_count": 24,
   "metadata": {},
   "outputs": [],
   "source": [
    "from tensorflow.keras.preprocessing.image import ImageDataGenerator\n",
    "\n",
    "datagen = ImageDataGenerator(\n",
    "    featurewise_center=True,\n",
    "    featurewise_std_normalization=True,\n",
    "    rotation_range=20,\n",
    "    width_shift_range=0.2,\n",
    "    height_shift_range=0.2,\n",
    "    horizontal_flip=True)\n",
    "# compute quantities required for featurewise normalization\n",
    "# (std, mean, and principal components if ZCA whitening is applied)\n",
    "datagen.fit(x_train)"
   ]
  },
  {
   "cell_type": "code",
   "execution_count": 25,
   "metadata": {},
   "outputs": [
    {
     "name": "stdout",
     "output_type": "stream",
     "text": [
      "Epoch 1/10\n",
      "1563/1563 [==============================] - 327s 209ms/step - loss: 2.2172 - accuracy: 0.2164 - val_loss: 1.7752 - val_accuracy: 0.4111\n",
      "Epoch 2/10\n",
      "1563/1563 [==============================] - 329s 211ms/step - loss: 1.8092 - accuracy: 0.3580 - val_loss: 1.5469 - val_accuracy: 0.4785\n",
      "Epoch 3/10\n",
      "1563/1563 [==============================] - 325s 208ms/step - loss: 1.6387 - accuracy: 0.4238 - val_loss: 1.4255 - val_accuracy: 0.5116\n",
      "Epoch 4/10\n",
      "1563/1563 [==============================] - 329s 211ms/step - loss: 1.5344 - accuracy: 0.4626 - val_loss: 1.3481 - val_accuracy: 0.5334\n",
      "Epoch 5/10\n",
      "1563/1563 [==============================] - 341s 218ms/step - loss: 1.4657 - accuracy: 0.4864 - val_loss: 1.2903 - val_accuracy: 0.5517\n",
      "Epoch 6/10\n",
      "1563/1563 [==============================] - 325s 208ms/step - loss: 1.4089 - accuracy: 0.5066 - val_loss: 1.2432 - val_accuracy: 0.5660\n",
      "Epoch 7/10\n",
      "1563/1563 [==============================] - 237s 151ms/step - loss: 1.3652 - accuracy: 0.5210 - val_loss: 1.2060 - val_accuracy: 0.5774\n",
      "Epoch 8/10\n",
      "1563/1563 [==============================] - 236s 151ms/step - loss: 1.3183 - accuracy: 0.5392 - val_loss: 1.1745 - val_accuracy: 0.5913\n",
      "Epoch 9/10\n",
      "1563/1563 [==============================] - 269s 172ms/step - loss: 1.2916 - accuracy: 0.5489 - val_loss: 1.1465 - val_accuracy: 0.5989\n",
      "Epoch 10/10\n",
      "1563/1563 [==============================] - 238s 152ms/step - loss: 1.2591 - accuracy: 0.5585 - val_loss: 1.1226 - val_accuracy: 0.6084\n",
      "Test loss: 1.1225918531417847\n",
      "Test accuracy: 0.6083999872207642\n"
     ]
    }
   ],
   "source": [
    "batch_size_TL = 32\n",
    "epochs_TL = 10\n",
    "\n",
    "# Store our results here so we can plot later\n",
    "# In our fit function we specify our datsets (x_train & y_train), \n",
    "# the batch size (typically 16 to 128 depending on your RAM), the number of \n",
    "# epochs (usually 10 to 100) and our validation datasets (x_test & y_test)\n",
    "# verbose = 1, sets our training to output performance metrics every epoch\n",
    "history_TL = custom_model.fit(x_train,\n",
    "                    y_train,\n",
    "                    batch_size = batch_size_TL,\n",
    "                    epochs = epochs_TL,\n",
    "                    verbose = 1,\n",
    "                    validation_data = (x_test, y_test))\n",
    "\n",
    "# We obtain our accuracy score using the evalute function\n",
    "score_TF = custom_model.evaluate(x_test, y_test, verbose=0)\n",
    "print('Test loss:', score_TF[0])\n",
    "print('Test accuracy:', score_TF[1])\n"
   ]
  }
 ],
 "metadata": {
  "kernelspec": {
   "display_name": "Python 3",
   "language": "python",
   "name": "python3"
  },
  "language_info": {
   "codemirror_mode": {
    "name": "ipython",
    "version": 3
   },
   "file_extension": ".py",
   "mimetype": "text/x-python",
   "name": "python",
   "nbconvert_exporter": "python",
   "pygments_lexer": "ipython3",
   "version": "3.7.1"
  }
 },
 "nbformat": 4,
 "nbformat_minor": 4
}
